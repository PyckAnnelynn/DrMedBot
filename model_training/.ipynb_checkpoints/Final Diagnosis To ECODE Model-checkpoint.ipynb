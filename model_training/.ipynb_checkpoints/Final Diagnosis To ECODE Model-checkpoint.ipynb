{
 "cells": [
  {
   "cell_type": "code",
   "execution_count": 91,
   "metadata": {},
   "outputs": [],
   "source": [
    "import pandas as pd\n",
    "import numpy as np\n",
    "from sklearn.model_selection import train_test_split\n",
    "\n",
    "import keras\n",
    "from keras.models import Sequential\n",
    "from keras.layers import Dense\n",
    "from keras.layers import Dropout\n",
    "from keras.layers import BatchNormalization\n",
    "\n",
    "from keras.utils import np_utils"
   ]
  },
  {
   "cell_type": "code",
   "execution_count": 92,
   "metadata": {},
   "outputs": [
    {
     "data": {
      "text/html": [
       "<div>\n",
       "<style scoped>\n",
       "    .dataframe tbody tr th:only-of-type {\n",
       "        vertical-align: middle;\n",
       "    }\n",
       "\n",
       "    .dataframe tbody tr th {\n",
       "        vertical-align: top;\n",
       "    }\n",
       "\n",
       "    .dataframe thead th {\n",
       "        text-align: right;\n",
       "    }\n",
       "</style>\n",
       "<table border=\"1\" class=\"dataframe\">\n",
       "  <thead>\n",
       "    <tr style=\"text-align: right;\">\n",
       "      <th></th>\n",
       "      <th>hnum2</th>\n",
       "      <th>ATYPE</th>\n",
       "      <th>asour</th>\n",
       "      <th>intage</th>\n",
       "      <th>TXTZIP</th>\n",
       "      <th>sex</th>\n",
       "      <th>dstat</th>\n",
       "      <th>PPAY</th>\n",
       "      <th>CHRGS</th>\n",
       "      <th>DX1</th>\n",
       "      <th>...</th>\n",
       "      <th>BTYPE</th>\n",
       "      <th>ERFLAG</th>\n",
       "      <th>cah</th>\n",
       "      <th>vtres</th>\n",
       "      <th>OBSFLAG</th>\n",
       "      <th>AFLAG</th>\n",
       "      <th>Uniq</th>\n",
       "      <th>ADMID_QTR</th>\n",
       "      <th>DISCD_QTR</th>\n",
       "      <th>CHRGS_HCIA</th>\n",
       "    </tr>\n",
       "  </thead>\n",
       "  <tbody>\n",
       "    <tr>\n",
       "      <th>0</th>\n",
       "      <td>11</td>\n",
       "      <td>3</td>\n",
       "      <td>4</td>\n",
       "      <td>13</td>\n",
       "      <td>050</td>\n",
       "      <td>2</td>\n",
       "      <td>5</td>\n",
       "      <td>1</td>\n",
       "      <td>3409.85</td>\n",
       "      <td>L600</td>\n",
       "      <td>...</td>\n",
       "      <td>131</td>\n",
       "      <td>0</td>\n",
       "      <td>1</td>\n",
       "      <td>1</td>\n",
       "      <td>0</td>\n",
       "      <td>1</td>\n",
       "      <td>3</td>\n",
       "      <td>1</td>\n",
       "      <td>1</td>\n",
       "      <td>3409.85</td>\n",
       "    </tr>\n",
       "    <tr>\n",
       "      <th>1</th>\n",
       "      <td>11</td>\n",
       "      <td>3</td>\n",
       "      <td>4</td>\n",
       "      <td>11</td>\n",
       "      <td>050</td>\n",
       "      <td>2</td>\n",
       "      <td>5</td>\n",
       "      <td>7</td>\n",
       "      <td>1837.65</td>\n",
       "      <td>Z86010</td>\n",
       "      <td>...</td>\n",
       "      <td>131</td>\n",
       "      <td>0</td>\n",
       "      <td>1</td>\n",
       "      <td>1</td>\n",
       "      <td>0</td>\n",
       "      <td>1</td>\n",
       "      <td>54</td>\n",
       "      <td>1</td>\n",
       "      <td>1</td>\n",
       "      <td>1837.65</td>\n",
       "    </tr>\n",
       "    <tr>\n",
       "      <th>2</th>\n",
       "      <td>11</td>\n",
       "      <td>3</td>\n",
       "      <td>4</td>\n",
       "      <td>12</td>\n",
       "      <td>037</td>\n",
       "      <td>2</td>\n",
       "      <td>5</td>\n",
       "      <td>1</td>\n",
       "      <td>1102.65</td>\n",
       "      <td>Z1211</td>\n",
       "      <td>...</td>\n",
       "      <td>131</td>\n",
       "      <td>0</td>\n",
       "      <td>1</td>\n",
       "      <td>3</td>\n",
       "      <td>0</td>\n",
       "      <td>1</td>\n",
       "      <td>85</td>\n",
       "      <td>1</td>\n",
       "      <td>1</td>\n",
       "      <td>1102.65</td>\n",
       "    </tr>\n",
       "    <tr>\n",
       "      <th>3</th>\n",
       "      <td>11</td>\n",
       "      <td>3</td>\n",
       "      <td>4</td>\n",
       "      <td>10</td>\n",
       "      <td>050</td>\n",
       "      <td>1</td>\n",
       "      <td>5</td>\n",
       "      <td>7</td>\n",
       "      <td>1102.70</td>\n",
       "      <td>Z1211</td>\n",
       "      <td>...</td>\n",
       "      <td>131</td>\n",
       "      <td>0</td>\n",
       "      <td>1</td>\n",
       "      <td>1</td>\n",
       "      <td>0</td>\n",
       "      <td>1</td>\n",
       "      <td>87</td>\n",
       "      <td>1</td>\n",
       "      <td>1</td>\n",
       "      <td>1102.70</td>\n",
       "    </tr>\n",
       "    <tr>\n",
       "      <th>4</th>\n",
       "      <td>11</td>\n",
       "      <td>3</td>\n",
       "      <td>4</td>\n",
       "      <td>13</td>\n",
       "      <td>051</td>\n",
       "      <td>2</td>\n",
       "      <td>5</td>\n",
       "      <td>7</td>\n",
       "      <td>1837.65</td>\n",
       "      <td>Z1211</td>\n",
       "      <td>...</td>\n",
       "      <td>131</td>\n",
       "      <td>0</td>\n",
       "      <td>1</td>\n",
       "      <td>1</td>\n",
       "      <td>0</td>\n",
       "      <td>1</td>\n",
       "      <td>93</td>\n",
       "      <td>1</td>\n",
       "      <td>1</td>\n",
       "      <td>1837.65</td>\n",
       "    </tr>\n",
       "  </tbody>\n",
       "</table>\n",
       "<p>5 rows × 70 columns</p>\n",
       "</div>"
      ],
      "text/plain": [
       "   hnum2  ATYPE asour  intage TXTZIP sex  dstat  PPAY    CHRGS     DX1  \\\n",
       "0     11      3     4      13    050   2      5     1  3409.85    L600   \n",
       "1     11      3     4      11    050   2      5     7  1837.65  Z86010   \n",
       "2     11      3     4      12    037   2      5     1  1102.65   Z1211   \n",
       "3     11      3     4      10    050   1      5     7  1102.70   Z1211   \n",
       "4     11      3     4      13    051   2      5     7  1837.65   Z1211   \n",
       "\n",
       "     ...     BTYPE ERFLAG cah vtres OBSFLAG AFLAG Uniq ADMID_QTR DISCD_QTR  \\\n",
       "0    ...       131      0   1     1       0     1    3         1         1   \n",
       "1    ...       131      0   1     1       0     1   54         1         1   \n",
       "2    ...       131      0   1     3       0     1   85         1         1   \n",
       "3    ...       131      0   1     1       0     1   87         1         1   \n",
       "4    ...       131      0   1     1       0     1   93         1         1   \n",
       "\n",
       "  CHRGS_HCIA  \n",
       "0    3409.85  \n",
       "1    1837.65  \n",
       "2    1102.65  \n",
       "3    1102.70  \n",
       "4    1837.65  \n",
       "\n",
       "[5 rows x 70 columns]"
      ]
     },
     "execution_count": 92,
     "metadata": {},
     "output_type": "execute_result"
    }
   ],
   "source": [
    "df = pd.read_csv('data/VTOUTP16.TXT', low_memory=False)\n",
    "df.head()"
   ]
  },
  {
   "cell_type": "code",
   "execution_count": 93,
   "metadata": {},
   "outputs": [
    {
     "name": "stdout",
     "output_type": "stream",
     "text": [
      "DX1         L600\n",
      "DX2       J45909\n",
      "DX3             \n",
      "DX4             \n",
      "DX5             \n",
      "DX6             \n",
      "DX7             \n",
      "DX8             \n",
      "DX9             \n",
      "DX10            \n",
      "DX11            \n",
      "DX12            \n",
      "DX13            \n",
      "DX14            \n",
      "DX15            \n",
      "DX16            \n",
      "DX17            \n",
      "DX18            \n",
      "DX19            \n",
      "DX20            \n",
      "ECODE1          \n",
      "Name: 0, dtype: object\n"
     ]
    }
   ],
   "source": [
    "# clean data\n",
    "## only use the diagnosis columns + the pdays column\n",
    "df.drop(df.columns[0:9],axis=1,inplace=True) # delete everything before DX columns\n",
    "df.drop(df.columns[20:40],axis=1,inplace=True) # delete everything between DX columns and ecodes\n",
    "df.drop(df.columns[21:],axis=1,inplace=True) # delete everything after ecodes\n",
    "print(df.loc[0])"
   ]
  },
  {
   "cell_type": "code",
   "execution_count": 94,
   "metadata": {},
   "outputs": [],
   "source": [
    "# clean up data\n",
    "## replace spaces with 0\n",
    "df.replace([' '], [0], inplace=True)"
   ]
  },
  {
   "cell_type": "code",
   "execution_count": 95,
   "metadata": {},
   "outputs": [],
   "source": [
    "## replace all ICD-9 codes with ints in the DX columns\n",
    "icd9codes_dict = {}\n",
    "replacement = 0\n",
    "for i in range (1,21):\n",
    "    current_column = f'DX{i}'\n",
    "    for icd9code in df[current_column]:\n",
    "        if icd9code not in icd9codes_dict.keys():\n",
    "            icd9codes_dict[icd9code] = replacement\n",
    "            replacement += 1\n",
    "\n",
    "for i in range (1,21):\n",
    "    current_column = f'DX{i}'\n",
    "    df[current_column] = df[current_column].map(icd9codes_dict)\n",
    "    df[current_column] = pd.to_numeric(df[current_column])"
   ]
  },
  {
   "cell_type": "code",
   "execution_count": 96,
   "metadata": {},
   "outputs": [],
   "source": [
    "## replace all ICD-9 codes with ints in the ECODE columns\n",
    "for i in range (1,2):\n",
    "    current_column = f'ECODE{i}'\n",
    "    for icd9code in df[current_column]:\n",
    "        if icd9code not in icd9codes_dict.keys():\n",
    "            icd9codes_dict[icd9code] = replacement\n",
    "            replacement += 1\n",
    "\n",
    "for i in range (1,2):\n",
    "    current_column = f'ECODE{i}'\n",
    "    df[current_column] = df[current_column].map(icd9codes_dict)\n",
    "    df[current_column] = pd.to_numeric(df[current_column])"
   ]
  },
  {
   "cell_type": "code",
   "execution_count": 97,
   "metadata": {},
   "outputs": [],
   "source": [
    "# set features and targets\n",
    "y = df['ECODE1']\n",
    "df.drop('ECODE1', axis=1, inplace=True)\n",
    "X = df.values"
   ]
  },
  {
   "cell_type": "code",
   "execution_count": 98,
   "metadata": {},
   "outputs": [
    {
     "name": "stdout",
     "output_type": "stream",
     "text": [
      "[   0   77 2618 2618 2618 2618 2618 2618 2618 2618 2618 2618 2618 2618\n",
      " 2618 2618 2618 2618 2618 2618]\n"
     ]
    }
   ],
   "source": [
    "# print first row to make sure the replacements took place\n",
    "print(X[0])"
   ]
  },
  {
   "cell_type": "code",
   "execution_count": 99,
   "metadata": {},
   "outputs": [],
   "source": [
    "# split into training and test set\n",
    "X_train, X_test, y_train, y_test = train_test_split(X, y, test_size=0.2, random_state=0)"
   ]
  },
  {
   "cell_type": "code",
   "execution_count": 100,
   "metadata": {},
   "outputs": [
    {
     "name": "stdout",
     "output_type": "stream",
     "text": [
      "(296506, 20)\n"
     ]
    }
   ],
   "source": [
    "print(X_train.shape)"
   ]
  },
  {
   "cell_type": "code",
   "execution_count": 101,
   "metadata": {},
   "outputs": [],
   "source": [
    "# One-hot encoding\n",
    "y_train = np_utils.to_categorical(y_train)"
   ]
  },
  {
   "cell_type": "code",
   "execution_count": 102,
   "metadata": {},
   "outputs": [
    {
     "name": "stdout",
     "output_type": "stream",
     "text": [
      "[[0. 0. 0. ... 0. 0. 0.]\n",
      " [0. 0. 0. ... 0. 0. 0.]\n",
      " [0. 0. 0. ... 0. 0. 0.]\n",
      " ...\n",
      " [0. 0. 0. ... 0. 0. 0.]\n",
      " [0. 0. 0. ... 0. 0. 0.]\n",
      " [0. 0. 0. ... 0. 0. 0.]]\n"
     ]
    }
   ],
   "source": [
    "print(y_train)"
   ]
  },
  {
   "cell_type": "code",
   "execution_count": 115,
   "metadata": {},
   "outputs": [],
   "source": [
    "# setup model\n",
    "## parameters\n",
    "model = Sequential()\n",
    "dropoutrate = 0.2\n",
    "batchsize = 1024\n",
    "inputdim = X_train.shape[1]\n",
    "adam = keras.optimizers.Adam() # Adam optimizer\n",
    "\n",
    "model.add(Dense(10, input_dim=inputdim, kernel_initializer='uniform',activation='relu'))\n",
    "model.add(Dropout(dropoutrate))\n",
    "model.add(Dense(40, kernel_initializer='uniform',activation='relu'))\n",
    "model.add(Dropout(dropoutrate))\n",
    "model.add(Dense(40, kernel_initializer='uniform',activation='relu'))\n",
    "model.add(Dropout(dropoutrate))\n",
    "model.add(Dense(15378, activation='softmax'))"
   ]
  },
  {
   "cell_type": "code",
   "execution_count": 116,
   "metadata": {},
   "outputs": [],
   "source": [
    "model.compile(loss=keras.losses.categorical_crossentropy,optimizer=adam,metrics=['accuracy'])"
   ]
  },
  {
   "cell_type": "code",
   "execution_count": 117,
   "metadata": {},
   "outputs": [
    {
     "name": "stdout",
     "output_type": "stream",
     "text": [
      "Train on 207554 samples, validate on 88952 samples\n",
      "Epoch 1/10\n",
      "207554/207554 [==============================] - 734s 4ms/step - loss: 1.7055 - acc: 0.8297 - val_loss: 1.1093 - val_acc: 0.8465\n",
      "Epoch 2/10\n",
      "207554/207554 [==============================] - 765s 4ms/step - loss: 1.0778 - acc: 0.8477 - val_loss: 1.1212 - val_acc: 0.8465\n",
      "Epoch 3/10\n",
      "207554/207554 [==============================] - 749s 4ms/step - loss: 1.0390 - acc: 0.8477 - val_loss: 1.0662 - val_acc: 0.8465\n",
      "Epoch 4/10\n",
      "207554/207554 [==============================] - 753s 4ms/step - loss: 1.0215 - acc: 0.8477 - val_loss: 1.0868 - val_acc: 0.8465\n",
      "Epoch 5/10\n",
      "207554/207554 [==============================] - 753s 4ms/step - loss: 1.0134 - acc: 0.8477 - val_loss: 1.0959 - val_acc: 0.8465\n",
      "Epoch 6/10\n",
      "207554/207554 [==============================] - 751s 4ms/step - loss: 1.0052 - acc: 0.8477 - val_loss: 1.0584 - val_acc: 0.8465\n",
      "Epoch 7/10\n",
      "207554/207554 [==============================] - 752s 4ms/step - loss: 0.9990 - acc: 0.8477 - val_loss: 1.1137 - val_acc: 0.8465\n",
      "Epoch 8/10\n",
      "207554/207554 [==============================] - 674s 3ms/step - loss: 0.9970 - acc: 0.8477 - val_loss: 1.0875 - val_acc: 0.8465\n",
      "Epoch 9/10\n",
      "207554/207554 [==============================] - 437s 2ms/step - loss: 0.9907 - acc: 0.8477 - val_loss: 1.0926 - val_acc: 0.8465\n",
      "Epoch 10/10\n",
      "207554/207554 [==============================] - 438s 2ms/step - loss: 0.9863 - acc: 0.8477 - val_loss: 1.0738 - val_acc: 0.8465\n"
     ]
    }
   ],
   "source": [
    "# train model\n",
    "history = model.fit(X_train, y_train, epochs=10,validation_split=0.3, batch_size=batchsize,verbose=1)"
   ]
  },
  {
   "cell_type": "code",
   "execution_count": 121,
   "metadata": {},
   "outputs": [],
   "source": [
    "# predict the number of days a person has to stay in the hospital\n",
    "predictions = model.predict(X_test)"
   ]
  },
  {
   "cell_type": "code",
   "execution_count": 123,
   "metadata": {},
   "outputs": [
    {
     "name": "stdout",
     "output_type": "stream",
     "text": [
      "Predicted: 2618 \tcertainty: 0.9291730523109436\n",
      "Real: 2618\n"
     ]
    }
   ],
   "source": [
    "# compare prediction with real\n",
    "n = 0\n",
    "print(\"Predicted: {0} \\tcertainty: {1}\".format(predictions[n].argmax(axis=0), predictions[n][predictions[n].argmax(axis=0)]))\n",
    "print(\"Real: {0}\".format(list(y_test)[n]))"
   ]
  },
  {
   "cell_type": "code",
   "execution_count": 124,
   "metadata": {},
   "outputs": [],
   "source": [
    "# make list of all predictions\n",
    "y_predicted = []\n",
    "for i in range(0, len(predictions)):\n",
    "    y_predicted.append(predictions[i].argmax(axis=0))"
   ]
  },
  {
   "cell_type": "code",
   "execution_count": 132,
   "metadata": {},
   "outputs": [],
   "source": [
    "# save model for later use\n",
    "# https://stackoverflow.com/questions/40396042/how-to-save-scikit-learn-keras-model-into-a-persistence-file-pickle-hd5-json-ya\n",
    "model.save('model_diagnosis_ecode.h5')\n",
    "# save ICD code for later use\n",
    "#https://stackoverflow.com/questions/19201290/how-to-save-a-dictionary-to-a-file\n",
    "np.save('icd_diagnosis.npy', icd9codes_dict) "
   ]
  },
  {
   "cell_type": "code",
   "execution_count": null,
   "metadata": {},
   "outputs": [],
   "source": []
  }
 ],
 "metadata": {
  "kernelspec": {
   "display_name": "Python 3",
   "language": "python",
   "name": "python3"
  },
  "language_info": {
   "codemirror_mode": {
    "name": "ipython",
    "version": 3
   },
   "file_extension": ".py",
   "mimetype": "text/x-python",
   "name": "python",
   "nbconvert_exporter": "python",
   "pygments_lexer": "ipython3",
   "version": "3.6.4"
  }
 },
 "nbformat": 4,
 "nbformat_minor": 2
}
